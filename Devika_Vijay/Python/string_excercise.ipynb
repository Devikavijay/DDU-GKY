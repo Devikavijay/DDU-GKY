{
 "cells": [
  {
   "cell_type": "code",
   "execution_count": 3,
   "id": "0cfa16a6",
   "metadata": {},
   "outputs": [
    {
     "name": "stdout",
     "output_type": "stream",
     "text": [
      "The new string is  AuKellylt\n"
     ]
    }
   ],
   "source": [
    "### 1. write a prgrm to create a new string s3 by appending s2 in the middle of s1\n",
    "s1 = \"Ault\"\n",
    "s2 = \"Kelly\"\n",
    "s3 = s1[:2]+s2+s1[2:4]\n",
    "print(\"The new string is \",s3)"
   ]
  },
  {
   "cell_type": "code",
   "execution_count": 17,
   "id": "d24cb812",
   "metadata": {},
   "outputs": [
    {
     "name": "stdout",
     "output_type": "stream",
     "text": [
      "ytnPHO\n"
     ]
    }
   ],
   "source": [
    "### 2.Arrange string characters such that lowercase letters should come first\n",
    "str1 = \"PytHOn\"\n",
    "l=\"\"\n",
    "u=\"\"\n",
    "for i in str1:\n",
    "    if i.islower():\n",
    "        l=l+i\n",
    "    else:\n",
    "        u=u+i\n",
    "print(l+u)\n",
    "        \n",
    "    \n",
    "    "
   ]
  },
  {
   "cell_type": "code",
   "execution_count": 21,
   "id": "2b03d2f0",
   "metadata": {},
   "outputs": [
    {
     "name": "stdout",
     "output_type": "stream",
     "text": [
      "Digits:  3 \n",
      "chars:  8 \n",
      "symbols:  4\n"
     ]
    }
   ],
   "source": [
    "### 3. Count all digits ,letters and special symbols from the given string\n",
    "str1= \"P@#yn26at^&i5ve\"\n",
    "c=\"\"\n",
    "d=\"\"\n",
    "s=\"\"\n",
    "for i in str1:\n",
    "    if i.isalpha():\n",
    "        c=c+i\n",
    "    elif i.isdigit():\n",
    "        d=d+i\n",
    "    else:\n",
    "        s=s+i\n",
    "print('Digits: ',len(d),'\\nchars: ',len(c),'\\nsymbols: ',len(s))"
   ]
  },
  {
   "cell_type": "code",
   "execution_count": null,
   "id": "ab4f5721",
   "metadata": {},
   "outputs": [],
   "source": [
    "### 4. "
   ]
  }
 ],
 "metadata": {
  "kernelspec": {
   "display_name": "Python 3 (ipykernel)",
   "language": "python",
   "name": "python3"
  },
  "language_info": {
   "codemirror_mode": {
    "name": "ipython",
    "version": 3
   },
   "file_extension": ".py",
   "mimetype": "text/x-python",
   "name": "python",
   "nbconvert_exporter": "python",
   "pygments_lexer": "ipython3",
   "version": "3.9.13"
  }
 },
 "nbformat": 4,
 "nbformat_minor": 5
}
