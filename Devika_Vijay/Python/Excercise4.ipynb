{
 "cells": [
  {
   "cell_type": "markdown",
   "id": "80d2588b",
   "metadata": {},
   "source": [
    "#### 1. write a python script to generate and print a dict that contains a number (between 1 and n) in the form (x,x*x)\n",
    "\n"
   ]
  },
  {
   "cell_type": "code",
   "execution_count": 4,
   "id": "ce650a13",
   "metadata": {},
   "outputs": [
    {
     "name": "stdout",
     "output_type": "stream",
     "text": [
      "Enter the limit : 5\n",
      "{1: 1, 2: 4, 3: 9, 4: 16, 5: 25}\n"
     ]
    }
   ],
   "source": [
    "n=int(input(\"Enter the limit : \"))\n",
    "dict1={}\n",
    "for i in range(1,n+1):\n",
    "    j=i*i\n",
    "    dict1[i]=j\n",
    "print(dict1)\n",
    "    \n",
    "\n"
   ]
  },
  {
   "cell_type": "markdown",
   "id": "c2569185",
   "metadata": {},
   "source": [
    "#### 2. Write a python script to merge two python dictionaries"
   ]
  },
  {
   "cell_type": "code",
   "execution_count": 14,
   "id": "aadb8f5c",
   "metadata": {},
   "outputs": [
    {
     "name": "stdout",
     "output_type": "stream",
     "text": [
      "{1: 'Devika', 2: 'Sreekkutty', 3: 'Vijay', 4: 'Sree'}\n"
     ]
    }
   ],
   "source": [
    "a={1:\"Devika\",2:\"Sreekkutty\"}\n",
    "b={3:\"Vijay\",4:\"Sree\"}\n",
    "a.update(b)\n",
    "print(a)\n"
   ]
  },
  {
   "cell_type": "markdown",
   "id": "8aca9c00",
   "metadata": {},
   "source": [
    "#### 3. Write a python program to sum all the items in a dictionary"
   ]
  },
  {
   "cell_type": "code",
   "execution_count": 20,
   "id": "08d70c30",
   "metadata": {},
   "outputs": [
    {
     "name": "stdout",
     "output_type": "stream",
     "text": [
      "55\n"
     ]
    }
   ],
   "source": [
    "c={\"a\": 1, 2: 4, 3: 9, \"b\": 16, 5: 25}\n",
    "d=sum(c.values())\n",
    "print(d)"
   ]
  },
  {
   "cell_type": "markdown",
   "id": "b5e9d813",
   "metadata": {},
   "source": [
    "#### 4. prgrm to multtply all the items in a dict"
   ]
  },
  {
   "cell_type": "code",
   "execution_count": 22,
   "id": "b2642b2b",
   "metadata": {},
   "outputs": [
    {
     "name": "stdout",
     "output_type": "stream",
     "text": [
      "14400\n"
     ]
    }
   ],
   "source": [
    "c={\"a\": 1, 2: 4, 3: 9, \"b\": 16, 5: 25}\n",
    "mult=1\n",
    "for i in c.values():\n",
    "    mult=mult*i\n",
    "print(mult)"
   ]
  },
  {
   "cell_type": "markdown",
   "id": "15544631",
   "metadata": {},
   "source": [
    "#### 5. python prgrm to remove a key from a dict"
   ]
  },
  {
   "cell_type": "code",
   "execution_count": 25,
   "id": "c0d47b84",
   "metadata": {},
   "outputs": [
    {
     "name": "stdout",
     "output_type": "stream",
     "text": [
      "{'name': 'Devika', 'Age': 23}\n"
     ]
    }
   ],
   "source": [
    "dict2={\"name\":'Devika',\"Age\":23,\"mob\":2255}\n",
    "del dict2['mob']\n",
    "print(dict2)"
   ]
  },
  {
   "cell_type": "markdown",
   "id": "ad884e11",
   "metadata": {},
   "source": [
    "#### 6. prgrm to print a dict line by line"
   ]
  },
  {
   "cell_type": "code",
   "execution_count": 26,
   "id": "9edf1ec0",
   "metadata": {},
   "outputs": [
    {
     "name": "stdout",
     "output_type": "stream",
     "text": [
      "name Devika\n",
      "Age 23\n",
      "email devikavijay99@gmail.com\n",
      "mob 2255\n"
     ]
    }
   ],
   "source": [
    "dict2={\"name\":'Devika',\"Age\":23,\"email\":'devikavijay99@gmail.com',\"mob\":2255}\n",
    "for i,j in dict2.items():\n",
    "    print(i,j)"
   ]
  },
  {
   "cell_type": "markdown",
   "id": "fcaf0a53",
   "metadata": {},
   "source": [
    "#### 7. prgrm to access fifth value of a key from a dictionary which contains keys x,y,z as\n",
    "{'x':[11,12,13,14,15,16,17,18,19],'y':[21,22,23,24,25,26,27,28,29],'z':[31,32,33,34,35,36,37,38,39]}"
   ]
  },
  {
   "cell_type": "code",
   "execution_count": 2,
   "id": "a645c949",
   "metadata": {},
   "outputs": [
    {
     "name": "stdout",
     "output_type": "stream",
     "text": [
      "15\n",
      "25\n",
      "35\n"
     ]
    }
   ],
   "source": [
    "dict1={'x':[11,12,13,14,15,16,17,18,19],'y':[21,22,23,24,25,26,27,28,29],'z':[31,32,33,34,35,36,37,38,39]}\n",
    "for i in dict1: \n",
    "    print(dict1[i][4])"
   ]
  },
  {
   "cell_type": "code",
   "execution_count": null,
   "id": "23fe2361",
   "metadata": {},
   "outputs": [],
   "source": []
  }
 ],
 "metadata": {
  "kernelspec": {
   "display_name": "Python 3 (ipykernel)",
   "language": "python",
   "name": "python3"
  },
  "language_info": {
   "codemirror_mode": {
    "name": "ipython",
    "version": 3
   },
   "file_extension": ".py",
   "mimetype": "text/x-python",
   "name": "python",
   "nbconvert_exporter": "python",
   "pygments_lexer": "ipython3",
   "version": "3.9.13"
  }
 },
 "nbformat": 4,
 "nbformat_minor": 5
}
