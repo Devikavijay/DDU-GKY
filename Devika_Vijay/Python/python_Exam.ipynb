{
 "cells": [
  {
   "cell_type": "code",
   "execution_count": 31,
   "id": "fc04190d",
   "metadata": {},
   "outputs": [
    {
     "name": "stdout",
     "output_type": "stream",
     "text": [
      "Enter the number :0\n",
      "The number is zero\n"
     ]
    }
   ],
   "source": [
    "### write a prgrm to check a num is +ve or -ve\n",
    "n=int(input(\"Enter the number :\"))\n",
    "if n>0:\n",
    "    print(\"The given number is positive\")\n",
    "elif n<0:\n",
    "     print(\"The given number is negative\")\n",
    "else:\n",
    "    print(\"The number is zero\")\n"
   ]
  },
  {
   "cell_type": "code",
   "execution_count": 11,
   "id": "400a705d",
   "metadata": {},
   "outputs": [
    {
     "name": "stdout",
     "output_type": "stream",
     "text": [
      "Enter the number :100\n",
      "1\n",
      "3\n",
      "5\n",
      "7\n",
      "9\n",
      "11\n",
      "13\n",
      "15\n",
      "17\n",
      "19\n",
      "21\n",
      "23\n",
      "25\n",
      "27\n",
      "29\n",
      "31\n",
      "33\n",
      "35\n",
      "37\n",
      "39\n",
      "41\n",
      "43\n",
      "45\n",
      "47\n",
      "49\n",
      "51\n",
      "53\n",
      "55\n",
      "57\n",
      "59\n",
      "61\n",
      "63\n",
      "65\n",
      "67\n",
      "69\n",
      "71\n",
      "73\n",
      "75\n",
      "77\n",
      "79\n",
      "81\n",
      "83\n",
      "85\n",
      "87\n",
      "89\n",
      "91\n",
      "93\n",
      "95\n",
      "97\n",
      "99\n"
     ]
    }
   ],
   "source": [
    "## wap to print all odd numbers\n",
    "n=int(input(\"Enter the number :\"))\n",
    "for i in range(1,n):\n",
    "    if i%2!=0:\n",
    "        print(i)"
   ]
  },
  {
   "cell_type": "code",
   "execution_count": 12,
   "id": "166d49e3",
   "metadata": {},
   "outputs": [
    {
     "name": "stdout",
     "output_type": "stream",
     "text": [
      "The sum of All natural numbers upto 20 is :  210\n"
     ]
    }
   ],
   "source": [
    "##3. wap to calculate the sum of all natural numbners upto 20\n",
    "sum=0\n",
    "for i in range(1,21):\n",
    "    sum=sum+i\n",
    "print(\"The sum of All natural numbers upto 20 is : \",sum)"
   ]
  },
  {
   "cell_type": "code",
   "execution_count": 13,
   "id": "2b561fd3",
   "metadata": {},
   "outputs": [
    {
     "name": "stdout",
     "output_type": "stream",
     "text": [
      "H\n",
      "e\n",
      "l\n",
      "l\n",
      "o\n",
      " \n",
      "W\n",
      "o\n",
      "r\n",
      "l\n",
      "d\n"
     ]
    }
   ],
   "source": [
    "###4\n",
    "text=\"Hello World\"\n",
    "for i in text:\n",
    "    print(i)"
   ]
  },
  {
   "cell_type": "code",
   "execution_count": 14,
   "id": "39929039",
   "metadata": {},
   "outputs": [
    {
     "name": "stdout",
     "output_type": "stream",
     "text": [
      "Enter a string : Devika\n",
      "akiveD\n"
     ]
    }
   ],
   "source": [
    "##5\n",
    "a=input(\"Enter a string : \")\n",
    "print(a[::-1])\n"
   ]
  },
  {
   "cell_type": "code",
   "execution_count": 18,
   "id": "72ad55dc",
   "metadata": {},
   "outputs": [
    {
     "name": "stdout",
     "output_type": "stream",
     "text": [
      "Enter the limit: 5\n",
      "{1: 1, 2: 4, 3: 9, 4: 16, 5: 25}\n"
     ]
    }
   ],
   "source": [
    "##6\n",
    "n=int(input(\"Enter the limit: \"))\n",
    "a={}\n",
    "for i in range(1,n+1):\n",
    "    a[i]=i*i\n",
    "print(a)"
   ]
  },
  {
   "cell_type": "code",
   "execution_count": 23,
   "id": "b88aa751",
   "metadata": {},
   "outputs": [
    {
     "name": "stdout",
     "output_type": "stream",
     "text": [
      "Jello World\n"
     ]
    }
   ],
   "source": [
    "##7\n",
    "a=\"Hello World\"\n",
    "n=a.replace(\"H\",\"J\")\n",
    "print(n)"
   ]
  },
  {
   "cell_type": "code",
   "execution_count": 26,
   "id": "3108af2a",
   "metadata": {},
   "outputs": [
    {
     "name": "stdout",
     "output_type": "stream",
     "text": [
      "Enter the radius: 2\n",
      "The volume of sphere is :  33.49333333333333\n"
     ]
    }
   ],
   "source": [
    "##8\n",
    "r=int(input(\"Enter the radius: \"))\n",
    "Pi=3.14\n",
    "def vol_sphere(r):\n",
    "    volume=(4/3)*Pi*r**3\n",
    "    print(\"The volume of sphere is : \",volume)\n",
    "vol_sphere(r)\n",
    "    "
   ]
  },
  {
   "cell_type": "code",
   "execution_count": 28,
   "id": "98e89715",
   "metadata": {},
   "outputs": [
    {
     "name": "stdout",
     "output_type": "stream",
     "text": [
      "('Mango',)\n",
      "<class 'tuple'>\n"
     ]
    }
   ],
   "source": [
    "tuple1=(\"Mango\",)\n",
    "print(tuple1)\n",
    "print(type(tuple1))"
   ]
  },
  {
   "cell_type": "code",
   "execution_count": 29,
   "id": "ccbc7a75",
   "metadata": {},
   "outputs": [
    {
     "name": "stdout",
     "output_type": "stream",
     "text": [
      "['kiwi', 'banana', 'cherry']\n"
     ]
    }
   ],
   "source": [
    "## 10\n",
    "fruits=[\"apple\",\"banana\",\"cherry\"]\n",
    "fruits[0]=\"kiwi\"\n",
    "print(fruits)"
   ]
  },
  {
   "cell_type": "code",
   "execution_count": null,
   "id": "363f76f9",
   "metadata": {},
   "outputs": [],
   "source": []
  }
 ],
 "metadata": {
  "kernelspec": {
   "display_name": "Python 3 (ipykernel)",
   "language": "python",
   "name": "python3"
  },
  "language_info": {
   "codemirror_mode": {
    "name": "ipython",
    "version": 3
   },
   "file_extension": ".py",
   "mimetype": "text/x-python",
   "name": "python",
   "nbconvert_exporter": "python",
   "pygments_lexer": "ipython3",
   "version": "3.9.13"
  }
 },
 "nbformat": 4,
 "nbformat_minor": 5
}
